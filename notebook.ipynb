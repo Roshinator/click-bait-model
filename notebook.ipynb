{
 "cells": [
  {
   "cell_type": "markdown",
   "metadata": {},
   "source": [
    "# Time for some big brain"
   ]
  },
  {
   "cell_type": "markdown",
   "metadata": {},
   "source": [
    "## Step 1: Tokenize data and build vocab"
   ]
  },
  {
   "cell_type": "code",
   "execution_count": 27,
   "metadata": {},
   "outputs": [],
   "source": [
    "import pandas as pd\n",
    "import re\n",
    "import nltk"
   ]
  },
  {
   "cell_type": "code",
   "execution_count": 28,
   "metadata": {},
   "outputs": [],
   "source": [
    "\"\"\"\n",
    "    Load dataset from local directory\n",
    "\"\"\"\n",
    "def load_dataset(filename):\n",
    "    df = pd.read_csv(filename)\n",
    "    \n",
    "    return df['headline'].values, df['clickbait'].values "
   ]
  },
  {
   "cell_type": "code",
   "execution_count": 29,
   "metadata": {},
   "outputs": [],
   "source": [
    "\"\"\"\n",
    "    Clean data by removing all special characters. Convert words to lowercase\n",
    "\"\"\"\n",
    "def clean_data(headlines):\n",
    "    headlines = [re.sub(r'\\'','', headline).lower() for headline in headlines]\n",
    "    headlines = [re.sub(r'[^A-Za-z0-9]+',' ', headline).lower() for headline in headlines]\n",
    "    return headlines"
   ]
  },
  {
   "cell_type": "code",
   "execution_count": 30,
   "metadata": {},
   "outputs": [],
   "source": [
    "\"\"\"\n",
    "    Tokenize all headlines\n",
    "\"\"\"\n",
    "def tokenization(headlines):\n",
    "    headlines = [nltk.tokenize.wordpunct_tokenize(headline) for headline in headlines]\n",
    "    return headlines"
   ]
  },
  {
   "cell_type": "code",
   "execution_count": 31,
   "metadata": {},
   "outputs": [],
   "source": [
    "\"\"\"\n",
    "    Build vocab and return 'vocabSize' most common words\n",
    "\"\"\"\n",
    "def build_vocab(headlines, vocabSize):\n",
    "    vocab = dict()\n",
    "\n",
    "    fdist = nltk.FreqDist()\n",
    "    for headline in headlines:\n",
    "        for word in headline:\n",
    "            fdist[word] += 1\n",
    "    \n",
    "    common_words = fdist.most_common(vocabSize)\n",
    "\n",
    "    for count,word in enumerate(common_words):\n",
    "        vocab[word[0]] = count+1\n",
    "    \n",
    "    return vocab"
   ]
  },
  {
   "cell_type": "code",
   "execution_count": 32,
   "metadata": {},
   "outputs": [],
   "source": [
    "\"\"\"\n",
    "    Convert each token into index based representation \n",
    "\"\"\"\n",
    "def word_to_idx(headlines, vocab):\t\n",
    "  headlines_tokenized = list()\n",
    "  \n",
    "  for sentence in headlines:\n",
    "    temp = list()\n",
    "    for word in sentence:\n",
    "       if word in vocab.keys():\n",
    "          temp.append(vocab[word])\n",
    "    headlines_tokenized.append(temp)\n",
    "  return headlines_tokenized"
   ]
  },
  {
   "cell_type": "code",
   "execution_count": null,
   "metadata": {},
   "outputs": [],
   "source": []
  },
  {
   "cell_type": "code",
   "execution_count": 34,
   "metadata": {},
   "outputs": [
    {
     "name": "stdout",
     "output_type": "stream",
     "text": [
      "{'to': 1, 'in': 2, 'the': 3, 'of': 4, 'you': 5, 'a': 6, 'for': 7, 'and': 8, 'on': 9, 'your': 10, 'is': 11, 'are': 12, 'that': 13, 'this': 14, 'with': 15, 'at': 16, 'will': 17, 'from': 18, 'new': 19, 'about': 20, 'what': 21, 'who': 22, 'people': 23, 'things': 24, 'how': 25, 'which': 26, 'us': 27, 'as': 28, 'can': 29, 'by': 30, 'make': 31, 'we': 32, 'know': 33, 'be': 34, 'after': 35, '17': 36, 'do': 37, '21': 38, 's': 39, 'u': 40, 'should': 41, 'have': 42, 'these': 43, 'based': 44, 'all': 45, '19': 46, 'actually': 47, 'up': 48, 'it': 49, 'over': 50, 'their': 51, 'times': 52, 'an': 53, 'out': 54, 'first': 55, 'was': 56, 'its': 57, 'like': 58, 'if': 59, 'one': 60, '2015': 61, 'most': 62, 'or': 63, 'best': 64, 'more': 65, 'life': 66, 'when': 67, 'need': 68, 'heres': 69, 'has': 70, 'time': 71, 'world': 72, 'his': 73, 'just': 74, 'i': 75, '15': 76, 'dead': 77, '23': 78, '18': 79, 'year': 80, 'day': 81, 'her': 82, 'get': 83, 'killed': 84, 'dies': 85, 'ever': 86, 'every': 87, 'two': 88, 'president': 89, 'real': 90, 'not': 91, 'were': 92, 'into': 93, 'love': 94, 'says': 95, 'youre': 96, 'too': 97, 'uk': 98, 'zodiac': 99, 'no': 100}\n"
     ]
    }
   ],
   "source": [
    "# Load data\n",
    "headlines, clickbait = load_dataset(\"clickbait_data.csv\")\n",
    "\n",
    "# Clean data and build vocab\n",
    "headlines = clean_data(headlines)\n",
    "headlines = tokenization(headlines)\n",
    "vocab = build_vocab(headlines,100)\n",
    "headlines_tokenized = word_to_idx(headlines, vocab)\n",
    "#print(headlines_tokenized)\n",
    "print(vocab)\n",
    "\n"
   ]
  }
 ],
 "metadata": {
  "interpreter": {
   "hash": "991fbe55e20aa96684a77864442132e855c0c354e4a8fc77b9a964190396388d"
  },
  "kernelspec": {
   "display_name": "Python 3.8.8 64-bit ('base': conda)",
   "language": "python",
   "name": "python3"
  },
  "language_info": {
   "codemirror_mode": {
    "name": "ipython",
    "version": 3
   },
   "file_extension": ".py",
   "mimetype": "text/x-python",
   "name": "python",
   "nbconvert_exporter": "python",
   "pygments_lexer": "ipython3",
   "version": "3.7.5"
  },
  "orig_nbformat": 4
 },
 "nbformat": 4,
 "nbformat_minor": 2
}
